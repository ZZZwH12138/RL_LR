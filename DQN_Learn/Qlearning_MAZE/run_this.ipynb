{
 "cells": [
  {
   "cell_type": "markdown",
   "source": [
    "导入环境和Q表格"
   ],
   "metadata": {
    "collapsed": false
   }
  },
  {
   "cell_type": "code",
   "execution_count": 46,
   "metadata": {
    "collapsed": true,
    "pycharm": {
     "name": "#%%\n"
    }
   },
   "outputs": [],
   "source": [
    "from maze_env import Maze\n",
    "from RL_brain import QLearningTable"
   ]
  },
  {
   "cell_type": "markdown",
   "source": [
    "训练模式"
   ],
   "metadata": {
    "collapsed": false
   }
  },
  {
   "cell_type": "code",
   "execution_count": 47,
   "outputs": [],
   "source": [
    "# update策略\n",
    "def update():\n",
    "    for episode in range(100):\n",
    "        # 循环进行一轮轮的游戏\n",
    "        observation = env.reset()\n",
    "        # 每轮游戏开始，环境重置并返回观测值\n",
    "        while True:\n",
    "            env.render()\n",
    "            # 当游戏尚未结束的时候，渲染、刷新环境\n",
    "            action = RL.choose_action(str(observation))\n",
    "            # 基于对环境的观测值(state)选择动作\n",
    "            observation_, reward, done = env.step(action)\n",
    "            # 进行动作后，环境将根据动作返回下一个状态、奖励以及游戏是否结束的标志done\n",
    "            RL.learn(str(observation), action, reward, str(observation_))\n",
    "            # 智能体将会通过现在的状态、动作、奖励以及动作后的状态进行学习、更新自己\n",
    "            # 一条transtions\n",
    "            observation = observation_\n",
    "            # 进入下一步动作前，更新state\n",
    "\n",
    "            if done:\n",
    "                break\n",
    "            # 如果进行的动作让环境返回了游戏结束的标志done=1，那么游戏结束，跳出while循环，进入下一轮游戏\n",
    "    # end\n",
    "    print('game over')\n",
    "    env.destroy()\n",
    "    # 游戏结束后，关掉窗口"
   ],
   "metadata": {
    "collapsed": false,
    "pycharm": {
     "name": "#%%\n"
    }
   }
  },
  {
   "cell_type": "markdown",
   "source": [
    "运行"
   ],
   "metadata": {
    "collapsed": false
   }
  },
  {
   "cell_type": "code",
   "execution_count": 48,
   "outputs": [
    {
     "name": "stderr",
     "output_type": "stream",
     "text": [
      "D:\\PYTORCH\\DQN_Learn\\DQN_MAZE\\RL_brain.py:44: FutureWarning: The frame.append method is deprecated and will be removed from pandas in a future version. Use pandas.concat instead.\n",
      "  # 参数更新部分，即根据当前的状态、动作、、环境回馈的奖励、下一时刻的状态\n",
      "D:\\PYTORCH\\DQN_Learn\\DQN_MAZE\\RL_brain.py:44: FutureWarning: The frame.append method is deprecated and will be removed from pandas in a future version. Use pandas.concat instead.\n",
      "  # 参数更新部分，即根据当前的状态、动作、、环境回馈的奖励、下一时刻的状态\n",
      "D:\\PYTORCH\\DQN_Learn\\DQN_MAZE\\RL_brain.py:44: FutureWarning: The frame.append method is deprecated and will be removed from pandas in a future version. Use pandas.concat instead.\n",
      "  # 参数更新部分，即根据当前的状态、动作、、环境回馈的奖励、下一时刻的状态\n",
      "D:\\PYTORCH\\DQN_Learn\\DQN_MAZE\\RL_brain.py:44: FutureWarning: The frame.append method is deprecated and will be removed from pandas in a future version. Use pandas.concat instead.\n",
      "  # 参数更新部分，即根据当前的状态、动作、、环境回馈的奖励、下一时刻的状态\n",
      "D:\\PYTORCH\\DQN_Learn\\DQN_MAZE\\RL_brain.py:44: FutureWarning: The frame.append method is deprecated and will be removed from pandas in a future version. Use pandas.concat instead.\n",
      "  # 参数更新部分，即根据当前的状态、动作、、环境回馈的奖励、下一时刻的状态\n",
      "D:\\PYTORCH\\DQN_Learn\\DQN_MAZE\\RL_brain.py:44: FutureWarning: The frame.append method is deprecated and will be removed from pandas in a future version. Use pandas.concat instead.\n",
      "  # 参数更新部分，即根据当前的状态、动作、、环境回馈的奖励、下一时刻的状态\n",
      "D:\\PYTORCH\\DQN_Learn\\DQN_MAZE\\RL_brain.py:44: FutureWarning: The frame.append method is deprecated and will be removed from pandas in a future version. Use pandas.concat instead.\n",
      "  # 参数更新部分，即根据当前的状态、动作、、环境回馈的奖励、下一时刻的状态\n",
      "D:\\PYTORCH\\DQN_Learn\\DQN_MAZE\\RL_brain.py:44: FutureWarning: The frame.append method is deprecated and will be removed from pandas in a future version. Use pandas.concat instead.\n",
      "  # 参数更新部分，即根据当前的状态、动作、、环境回馈的奖励、下一时刻的状态\n",
      "D:\\PYTORCH\\DQN_Learn\\DQN_MAZE\\RL_brain.py:44: FutureWarning: The frame.append method is deprecated and will be removed from pandas in a future version. Use pandas.concat instead.\n",
      "  # 参数更新部分，即根据当前的状态、动作、、环境回馈的奖励、下一时刻的状态\n",
      "D:\\PYTORCH\\DQN_Learn\\DQN_MAZE\\RL_brain.py:44: FutureWarning: The frame.append method is deprecated and will be removed from pandas in a future version. Use pandas.concat instead.\n",
      "  # 参数更新部分，即根据当前的状态、动作、、环境回馈的奖励、下一时刻的状态\n",
      "D:\\PYTORCH\\DQN_Learn\\DQN_MAZE\\RL_brain.py:44: FutureWarning: The frame.append method is deprecated and will be removed from pandas in a future version. Use pandas.concat instead.\n",
      "  # 参数更新部分，即根据当前的状态、动作、、环境回馈的奖励、下一时刻的状态\n",
      "D:\\PYTORCH\\DQN_Learn\\DQN_MAZE\\RL_brain.py:44: FutureWarning: The frame.append method is deprecated and will be removed from pandas in a future version. Use pandas.concat instead.\n",
      "  # 参数更新部分，即根据当前的状态、动作、、环境回馈的奖励、下一时刻的状态\n",
      "D:\\PYTORCH\\DQN_Learn\\DQN_MAZE\\RL_brain.py:44: FutureWarning: The frame.append method is deprecated and will be removed from pandas in a future version. Use pandas.concat instead.\n",
      "  # 参数更新部分，即根据当前的状态、动作、、环境回馈的奖励、下一时刻的状态\n",
      "D:\\PYTORCH\\DQN_Learn\\DQN_MAZE\\RL_brain.py:44: FutureWarning: The frame.append method is deprecated and will be removed from pandas in a future version. Use pandas.concat instead.\n",
      "  # 参数更新部分，即根据当前的状态、动作、、环境回馈的奖励、下一时刻的状态\n"
     ]
    },
    {
     "name": "stdout",
     "output_type": "stream",
     "text": [
      "game over\n"
     ]
    }
   ],
   "source": [
    "if __name__ == \"__main__\":\n",
    "    env = Maze()\n",
    "    # 设置环境为迷宫环境\n",
    "    RL = QLearningTable(actions=list(range(env.n_actions)))\n",
    "    # 智能体为QLearingTable\n",
    "    # 它包含三个功能，选择动作、自我学习、检查是否经历过该状态\n",
    "    env.after(100, update)\n",
    "    env.mainloop()"
   ],
   "metadata": {
    "collapsed": false,
    "pycharm": {
     "name": "#%%\n"
    }
   }
  }
 ],
 "metadata": {
  "kernelspec": {
   "display_name": "Python 3",
   "language": "python",
   "name": "python3"
  },
  "language_info": {
   "codemirror_mode": {
    "name": "ipython",
    "version": 2
   },
   "file_extension": ".py",
   "mimetype": "text/x-python",
   "name": "python",
   "nbconvert_exporter": "python",
   "pygments_lexer": "ipython2",
   "version": "2.7.6"
  }
 },
 "nbformat": 4,
 "nbformat_minor": 0
}