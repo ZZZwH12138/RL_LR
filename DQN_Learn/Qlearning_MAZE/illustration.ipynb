{
 "cells": [
  {
   "cell_type": "code",
   "execution_count": 1,
   "metadata": {
    "collapsed": true
   },
   "outputs": [
    {
     "name": "stdout",
     "output_type": "stream",
     "text": [
      "2.0 ___ 0.0\n",
      "Index(['left'], dtype='object')\n",
      "left\n",
      "1.0 ___ 1.0\n",
      "Index(['left', 'right'], dtype='object')\n",
      "right\n",
      "0.0 ___ 2.0\n",
      "Index(['right'], dtype='object')\n",
      "right\n"
     ]
    }
   ],
   "source": [
    "# action = np.random.choice(state_action[state_action == np.max(state_action)].index)\n",
    "import numpy as np\n",
    "import pandas as pd\n",
    "table = pd.DataFrame(\n",
    "    np.zeros((6, 2)),\n",
    "    # 初始值，直接在pd.DataFrame中放一个数组\n",
    "    columns=['left', 'right'],\n",
    "    # 列索引为actions\n",
    "    )\n",
    "\n",
    "table.iloc[0,0]= 2\n",
    "table.iloc[0,1]= 0\n",
    "\n",
    "a = table.iloc[0, : ]\n",
    "b = a[a == np.max(a)].index\n",
    "c = np.random.choice(a[a == np.max(a)].index)\n",
    "print(table.iloc[0,0], \"___\", table.iloc[0,1])\n",
    "print(b)\n",
    "print(c)\n",
    "\n",
    "table.iloc[0,0]= 1\n",
    "table.iloc[0,1]= 1\n",
    "\n",
    "a = table.iloc[0, : ]\n",
    "b = a[a == np.max(a)].index\n",
    "c = np.random.choice(a[a == np.max(a)].index)\n",
    "print(table.iloc[0,0], \"___\", table.iloc[0,1])\n",
    "print(b)\n",
    "print(c)\n",
    "# 相等的情况多运行几次，会发现是随机的\n",
    "\n",
    "table.iloc[0,0]= 0\n",
    "table.iloc[0,1]= 2\n",
    "\n",
    "a = table.iloc[0, : ]\n",
    "b = a[a == np.max(a)].index\n",
    "c = np.random.choice(a[a == np.max(a)].index)\n",
    "print(table.iloc[0,0], \"___\", table.iloc[0,1])\n",
    "print(b)\n",
    "print(c)"
   ]
  }
 ],
 "metadata": {
  "kernelspec": {
   "display_name": "Python 3",
   "language": "python",
   "name": "python3"
  },
  "language_info": {
   "codemirror_mode": {
    "name": "ipython",
    "version": 2
   },
   "file_extension": ".py",
   "mimetype": "text/x-python",
   "name": "python",
   "nbconvert_exporter": "python",
   "pygments_lexer": "ipython2",
   "version": "2.7.6"
  }
 },
 "nbformat": 4,
 "nbformat_minor": 0
}