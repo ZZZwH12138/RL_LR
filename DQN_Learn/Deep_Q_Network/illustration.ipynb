{
 "cells": [
  {
   "cell_type": "code",
   "execution_count": 1,
   "metadata": {
    "collapsed": true
   },
   "outputs": [
    {
     "name": "stdout",
     "output_type": "stream",
     "text": [
      "[1 2 3 4 5 6 7]\n"
     ]
    }
   ],
   "source": [
    "# 对于np.hstack函数的理解\n",
    "# transition = np.hstack((s, [a, r], s_))\n",
    "import numpy as np\n",
    "\n",
    "arr1 = [1,2,3]\n",
    "arr2 = [4,5]\n",
    "arr3 = [6,7]\n",
    "res = np.hstack((arr1, arr2,arr3))\n",
    "print (res)"
   ]
  },
  {
   "cell_type": "code",
   "execution_count": 5,
   "outputs": [
    {
     "name": "stdout",
     "output_type": "stream",
     "text": [
      "0 1 2\n"
     ]
    }
   ],
   "source": [
    "# % 实现循环，实现新的experience取代老的experience\n",
    "# index = self.memory_counter % self.memory_size\n",
    "a = 500 % 500\n",
    "b = 501 % 500\n",
    "c = 502 % 500\n",
    "\n",
    "print(a , b, c)"
   ],
   "metadata": {
    "collapsed": false,
    "pycharm": {
     "name": "#%%\n"
    }
   }
  },
  {
   "cell_type": "code",
   "execution_count": 6,
   "outputs": [
    {
     "name": "stdout",
     "output_type": "stream",
     "text": [
      "b=\n",
      " [[1 2 3]]\n",
      "c=\n",
      " [[1]\n",
      " [2]\n",
      " [3]]\n"
     ]
    }
   ],
   "source": [
    "# np.newaxis示例\n",
    "# np.newaxis的意思是给数组新增一个维度。“python中矩阵切片维数微秒变化”中介绍了矩阵切片有时候会降低矩阵维度，为保证维度不变，可以用np.newaxis新增一个维度。\n",
    "import numpy as np\n",
    "\n",
    "a=np.array([1,2,3])\n",
    "\n",
    "b=a[np.newaxis,:]\n",
    "c=a[:,np.newaxis]\n",
    "\n",
    "print(\"b=\\n\",b)\n",
    "print(\"c=\\n\",c)"
   ],
   "metadata": {
    "collapsed": false,
    "pycharm": {
     "name": "#%%\n"
    }
   }
  },
  {
   "cell_type": "markdown",
   "source": [
    "# np.random.randint()解释\n",
    "numpy.random.randint(low. high=None, size=None, dtype='l')\n",
    "函数的作用是，返回一个随机整型数，其范围为[low, high)。如果没有写参数high的值，则返回[0,low)的值。\n",
    "从random可以看出是产生随机数，randint可以看出是产生随机整数（int）\n",
    "参数作用如下：\n",
    "参数如下：\n",
    "low: int\n",
    "表示生成的数值大于等于low。\n",
    "（hign = None时，生成的数值要在[0, low)区间内）\n",
    "high: int (可选)\n",
    "如果使用这个值，则生成的数值在[low, high)区间\n",
    "size: int or tuple of ints(可选)\n",
    "输出随机数组的尺寸，比如size = (m, n, k)，则输出数组的shape = (m, n, k)，数组中的每个元素均满足要求。size默认为None，仅仅返回满足要求的单一随机数。\n",
    "dtype: dtype(可选)：\n",
    "想要输出的格式。如int64、int等等\n",
    "输出：\n",
    "\n",
    "out: int or ndarray of ints\n",
    "返回一个随机数或随机数数组\n",
    "\n"
   ],
   "metadata": {
    "collapsed": false
   }
  },
  {
   "cell_type": "code",
   "execution_count": 17,
   "outputs": [
    {
     "name": "stdout",
     "output_type": "stream",
     "text": [
      "[[7 6 4]\n",
      " [3 6 3]]\n",
      "[7 6 4]\n"
     ]
    }
   ],
   "source": [
    "a = np.random.randint(2,10,size=(2,3))\n",
    "# 在2-10之间生成随机整数，组成一个两行三列的数组\n",
    "print(a)"
   ],
   "metadata": {
    "collapsed": false,
    "pycharm": {
     "name": "#%%\n"
    }
   }
  },
  {
   "cell_type": "markdown",
   "source": [
    "理解torch.max(a,1)的用法"
   ],
   "metadata": {
    "collapsed": false
   }
  },
  {
   "cell_type": "code",
   "execution_count": 2,
   "outputs": [
    {
     "name": "stdout",
     "output_type": "stream",
     "text": [
      "a tensor([[-0.4623, -1.0143,  0.8979],\n",
      "        [-0.1879, -2.3150,  0.1675],\n",
      "        [ 1.2072,  0.1098,  0.2588]])\n"
     ]
    },
    {
     "data": {
      "text/plain": "torch.return_types.max(\nvalues=tensor([0.8979, 0.1675, 1.2072]),\nindices=tensor([2, 2, 0]))"
     },
     "execution_count": 2,
     "metadata": {},
     "output_type": "execute_result"
    }
   ],
   "source": [
    "# torch.max(a,1)返回每一行中最大值的那个元素，且返回其索引（返回最大元素在这一行的列索引）\n",
    "import torch\n",
    "\n",
    "a = torch.randn(3,3)\n",
    "print('a', a)\n",
    "torch.max(a,1)"
   ],
   "metadata": {
    "collapsed": false,
    "pycharm": {
     "name": "#%%\n"
    }
   }
  }
 ],
 "metadata": {
  "kernelspec": {
   "display_name": "Python 3",
   "language": "python",
   "name": "python3"
  },
  "language_info": {
   "codemirror_mode": {
    "name": "ipython",
    "version": 2
   },
   "file_extension": ".py",
   "mimetype": "text/x-python",
   "name": "python",
   "nbconvert_exporter": "python",
   "pygments_lexer": "ipython2",
   "version": "2.7.6"
  }
 },
 "nbformat": 4,
 "nbformat_minor": 0
}